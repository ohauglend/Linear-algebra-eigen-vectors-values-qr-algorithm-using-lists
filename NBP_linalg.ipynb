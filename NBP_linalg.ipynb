{
 "cells": [
  {
   "cell_type": "code",
   "execution_count": 8,
   "id": "6cbc9be1",
   "metadata": {},
   "outputs": [],
   "source": [
    "import copy\n"
   ]
  },
  {
   "cell_type": "code",
   "execution_count": 2,
   "id": "a56d4a48",
   "metadata": {},
   "outputs": [],
   "source": [
    "class nbp_m:\n",
    "    \n",
    "    # __init__ function checks if the inputted list/ matrix (list of lists) is of:\n",
    "    # correct type\n",
    "    # correct structure\n",
    "\n",
    "    def __init__(self, matrix, rows = None):\n",
    "        \n",
    "        #list of types for input\n",
    "        types = [type(element) for element in matrix]\n",
    "        \n",
    "        # matrix has to be a list\n",
    "        if type(matrix) != list:\n",
    "            raise ValueError('The matrix has to be a list:\\n1 - list of lists.\\n2 - list of elements with rows stated.')\n",
    "            \n",
    "        # if matrix given as list\n",
    "        elif sum([t == list for t in types]) == 0:\n",
    "            \n",
    "            # only numerical values\n",
    "            for e in matrix:\n",
    "                if (type(e) != int and type(e) != float):\n",
    "                    raise ValueError('The given list contains values that are not numerical.')\n",
    "            \n",
    "            # rows have to be stated\n",
    "            if rows == None:\n",
    "                raise ValueError('The number of rows have to be stated.')\n",
    "                \n",
    "            # number of rows has to be an integer bigger than 1\n",
    "            elif (type(rows) != int) or rows < 2:\n",
    "                raise ValueError('The number of rows has to be a numerical value that is bigger then 1.')\n",
    "                \n",
    "            # at least 4 elements to be considered a matrix\n",
    "            elif len(matrix) < 4:\n",
    "                raise ValueError('The matrix has to contain at least 4 elements.')\n",
    "                \n",
    "            # number of elements has to be a multiple of number of rows\n",
    "            elif len(matrix) % rows != 0 :\n",
    "                raise ValueError('''The number of elements in the given list has to be a multiple of the number of rows.\\n\n",
    "                Number of elements - {}\\n\n",
    "                Number of rows - {}'''.format(len(matrix), rows))\n",
    "            \n",
    "            # if nothing from above - then we can store the instance as matrix\n",
    "            else:\n",
    "                num = len(matrix)//rows\n",
    "                m = [matrix[x:x+num] for x in range(0, len(matrix), num)]\n",
    "                \n",
    "                self.matrix = m\n",
    "                self.rows = rows\n",
    "                self.columns = len(m[0])\n",
    "\n",
    "                    \n",
    "        elif sum([t == list for t in types]) in  range(1,len(matrix)):\n",
    "            raise ValueError('Both lists and non-lists in given list.')\n",
    "        \n",
    "        # if matrix given as a matrix - that is list of lists\n",
    "        else:\n",
    "            \n",
    "            # if the matrix is given as list - number of rows should not be specified\n",
    "            if rows != None:\n",
    "                raise ValueError('Both rows and matrix as list of lists were given.')\n",
    "            \n",
    "            # The lists in matrix have to contain only numerical values\n",
    "            for row in matrix:\n",
    "                if not all([(type(e)==int or type(e)==float) for e in row]):\n",
    "                    raise ValueError('Not all elements in the matrix given are numerical.')\n",
    "            \n",
    "            # rows have to be of the same length\n",
    "            if not all([len(row) == len(matrix[0]) for row in matrix]):\n",
    "                raise ValueError('Not all rows in the matrix given are of the same length.')\n",
    "                \n",
    "            # if nothing above - we can store the input\n",
    "            self.matrix = matrix\n",
    "            self.rows = len(matrix)\n",
    "            self.columns = len(matrix[0])\n",
    "\n",
    "            \n",
    "    \n",
    "    def __add__(self, other):\n",
    "        if not (isinstance(other, nbp_m)):\n",
    "            raise ValueError(\"Other must be of instance matrix (nbp_m).\")\n",
    "        \n",
    "        if (len(self.matrix)!= len(other.matrix)) or (len(self.matrix[0]) != len(other.matrix[0])):\n",
    "            raise ValueError('Matrices are not of the same size.')        \n",
    "        m1 = self.matrix\n",
    "        m2 = other.matrix\n",
    "        out = []\n",
    "        for row in range(len(m1)):\n",
    "            out.append([m1[row][i] + m2[row][i] for i in range(len(m1[0]))])\n",
    "        return nbp_m(out)\n",
    "    \n",
    "    def __sub__(self, other):\n",
    "        if not (isinstance(other, nbp_m)):\n",
    "            raise ValueError(\"Other must be of instance matrix (nbp_m).\")        \n",
    " \n",
    "        if (len(self.matrix)!= len(other.matrix)) or (len(self.matrix[0]) != len(other.matrix[0])):\n",
    "            raise ValueError('Matrices are not of the same size.')\n",
    "        m1 = self.matrix\n",
    "        m2 = other.matrix\n",
    "        out = []\n",
    "        for row in range(len(m1)):\n",
    "            out.append([m1[row][i] - m2[row][i] for i in range(len(m1[0]))])\n",
    "        return nbp_m(out)\n",
    "\n",
    "\n",
    "    \n",
    "    ###################################################\n",
    "    \n",
    "    ### helping functions returned as lists and not matrices###\n",
    "\n",
    "    \n",
    "    def identity_matrix(dim):\n",
    "        base = nbp_m([0 for i in range(dim*dim)], dim).matrix\n",
    "        for i in range(dim):\n",
    "            base[i][i] = 1\n",
    "            \n",
    "        return nbp_m(base)\n",
    "    \n",
    "    \n",
    "    def minor(matrix, r, c):\n",
    "        # taking a matrix and returning Minor M_{r,c}\n",
    "\n",
    "        row_index = [i for i in range(len(matrix))]\n",
    "        col_index = [i for i in range(len(matrix[0]))]\n",
    "        row_index.remove(r-1)\n",
    "        col_index.remove(c-1)\n",
    "\n",
    "        minor = [matrix[row] for row in row_index]\n",
    "        for row in range(len(minor)):\n",
    "            minor[row] = [minor[row][col] for col in col_index]\n",
    "        \n",
    "        return nbp_m(minor)\n",
    "    \n",
    "    \n",
    "    def is_square(self):\n",
    "        return len(self.matrix) == len(self.matrix[0])\n",
    "        \n",
    "    def is_symmetric(self):\n",
    "        return self.matrix == self.transpose().matrix\n",
    "\n",
    "    \n",
    "    ###################################################\n",
    "    \n",
    "    ### printing functions ###\n",
    "    \n",
    "    # function 'nice' is based on the Latex package\n",
    "    \n",
    "    def __str__(self):\n",
    "        text = ''\n",
    "        for row in self.matrix:\n",
    "            text += str(row) + '\\n'\n",
    "        return '{}x{} matrix\\n\\n'.format(self.rows, self.columns) + text\n",
    "\n",
    "            \n",
    "    def nice(self):\n",
    "        \n",
    "        #The import statement is defined in the function due to reusability purposes\n",
    "        #Furthermore, nice is a function purley for the user to have a nice display, and is therefore optional.\n",
    "        #Having the import inside the function avoids importing a package that might not be used\n",
    "        from IPython.display import display, Latex\n",
    "        \n",
    "        matrix_line = []\n",
    "        r = self.rows\n",
    "        c = self.columns\n",
    "\n",
    "        # noting matrix in one line\n",
    "        for row in self.matrix:\n",
    "            matrix_line += row\n",
    "        matrix_line = [round(num, 3) for num in matrix_line] # rounding so that the outcome is of normal size\n",
    "\n",
    "        # coding the applicable string\n",
    "        # using {} to control the formatting\n",
    "        # using latex language and latex module\n",
    "        text = ''\n",
    "        text += '&'.join(['{}' for i in range(c)])\n",
    "\n",
    "        for i in range(r-1):\n",
    "            text += ' \\\\\\ ' + '&'.join(['{}' for i in range(c)])\n",
    "\n",
    "        gen = '$\\\\begin{{bmatrix}} '+text+' \\end{{bmatrix}}$'\n",
    "        \n",
    "        gen_f = gen.format(*matrix_line)\n",
    "\n",
    "        # printing\n",
    "        display(Latex(f'{gen_f}'))\n",
    "        \n",
    "    ###################################################\n",
    "    \n",
    "    # functions for operating on matrices\n",
    "    \n",
    "    ### transpose function ###\n",
    "    \n",
    "    def transpose(self):\n",
    "        \n",
    "        c = self.columns\n",
    "        r = self.rows\n",
    "        t_m = [0 for i in range(self.rows*self.columns)]\n",
    "        t_m = [t_m[x:x+r] for x in range(0, len(t_m), r)]\n",
    "        \n",
    "        for col in range(c):\n",
    "            for row in range(r):\n",
    "                t_m[col][row] = self.matrix[row][col]\n",
    "\n",
    "        return nbp_m(t_m)\n",
    "\n",
    "    ### scal function ###\n",
    "    \n",
    "    def scal(self, scalar):\n",
    "        if (type(scalar) != int and type(scalar) != float):\n",
    "            raise ValueError('The scalar parsed has to be a numerical value.')\n",
    "        \n",
    "        out = []\n",
    "        for row in self.matrix:\n",
    "            out.append([i*scalar for i in row])\n",
    "            \n",
    "        return nbp_m(out)\n",
    "    \n",
    "    ### Matrix multiplication and sum_matrix ###\n",
    "    def MMULT(self, other):\n",
    "        #Input validation\n",
    "        if not (isinstance(other, nbp_m)):\n",
    "            raise ValueError('other in MMULT must be an instance of the class nbp_m.')\n",
    "\n",
    "        if not(self.columns == other.rows):\n",
    "            raise ValueError('The number of columns in the first matrix must be equal to the number of rows in the second.')\n",
    "            \n",
    "        res = [[0 for x in range(self.columns)] for y in range(self.rows)] \n",
    "        for i in range(self.rows):\n",
    "            for j in range(other.columns):\n",
    "                for k in range(other.rows):\n",
    "  \n",
    "                    # resulted matrix\n",
    "                    res[i][j] += self.matrix[i][k] * other.matrix[k][j]\n",
    "                \n",
    "        return nbp_m(res)\n",
    "    \n",
    "    #Adds the elements of the matrices together, returns it as a new matrix\n",
    "    def sum_matrix(self, lst):\n",
    "        \n",
    "        for other in lst:\n",
    "            if not (isinstance(other, nbp_m)):\n",
    "                raise ValueError(\"other must be a matrix (instance of nbp_m).\")\n",
    "            if (self.rows != other.rows or self.columns != other.columns):\n",
    "                raise ValueError(\"The matrices are of different dimensions.\")\n",
    "        \n",
    "        out = []\n",
    "        #takes the current row and adds it together with all other using the vector equivalent of this class\n",
    "        for i in range(len(self.matrix)):\n",
    "            out.append(nbp_v(self.matrix[i]).sum_vec([nbp_v(other.matrix[i]) for other in lst]).vector)\n",
    "\n",
    "        return nbp_m(out)\n",
    "\n",
    "      \n",
    " \n",
    "     \n",
    "    ###################################################\n",
    "    \n",
    "    # reducing rows, find pivots, row echelon forms\n",
    "    \n",
    "    # class-functions/ helping functions\n",
    "    \n",
    "    def pivot_row(row, row_count):\n",
    "        value_count = 0\n",
    "        skipped = 0\n",
    "        for value in row:\n",
    "                if(value_count == row_count):\n",
    "                    if(value != 0):\n",
    "                        return value, value_count+skipped, skipped\n",
    "                    else:\n",
    "                        skipped += 1\n",
    "                        value_count-=1\n",
    "                value_count+=1\n",
    "        return \"Null\"\n",
    "\n",
    "    def find_pivot(matrix):\n",
    "\n",
    "        #pivtos{row_count: [value, (position)]}\n",
    "        pivots = {}\n",
    "        row_count = 0\n",
    "        for row in matrix:\n",
    "            if(nbp_m.pivot_row(row, row_count) == \"Null\"):\n",
    "                row_count +=1\n",
    "                continue\n",
    "            pivots[row_count] = [nbp_m.pivot_row(row, row_count)[0], (row_count, nbp_m.pivot_row(row, row_count)[1])]\n",
    "            for i in range(nbp_m.pivot_row(row, row_count)[2]):\n",
    "                row_count +=1\n",
    "            row_count +=1\n",
    "\n",
    "        return pivots\n",
    "    \n",
    "    def switching_rows(reduced):\n",
    "        ## changes the order of the matrix if row switching is necessary, \n",
    "        ## if it is not necessary, then it leaves the rows unchanged  \n",
    "        row_count = 0\n",
    "        for row in reduced:\n",
    "            if(nbp_m.pivot_row(row,row_count) == \"Null\"):\n",
    "                continue\n",
    "            if(nbp_m.pivot_row(row,row_count)[2] > 0):\n",
    "                for r in range(row_count+1, len(reduced)):\n",
    "                    if(nbp_m.pivot_row(reduced[r],0) == \"Null\"):\n",
    "                        row_count +=1\n",
    "                        continue\n",
    "                    if(nbp_m.pivot_row(reduced[r],0)[1] <= nbp_m.pivot_row(row,row_count)[1]):\n",
    "                        a = copy.deepcopy(reduced[row_count])\n",
    "                        reduced[row_count] = reduced[r]\n",
    "                        reduced[r] = a\n",
    "            row_count += 1\n",
    "        return reduced\n",
    "    \n",
    "    \n",
    "    #instance functions\n",
    "        \n",
    "    def row_echelon_form(self):\n",
    "        #row-switches if necessary\n",
    "        reduced = nbp_m.switching_rows(copy.deepcopy(self.matrix))\n",
    "        row_count = 0\n",
    "        row = reduced[row_count]\n",
    "        while(row_count < len(reduced)-1):\n",
    "            if(nbp_m.pivot_row(row, row_count) == \"Null\"):\n",
    "                row_count += 1\n",
    "                continue\n",
    "            pivot_value = nbp_m.pivot_row(row, row_count)[0]\n",
    "            pivot_pos = nbp_m.pivot_row(row, row_count)[1]\n",
    "            for i in range(1,len(reduced)):\n",
    "                if(row_count+i >= len(reduced)):\n",
    "                    continue\n",
    "                value_under = reduced[row_count+i][pivot_pos]\n",
    "                factor = (-value_under)/pivot_value\n",
    "                e_count = 0\n",
    "                for e in reduced[row_count+i]:\n",
    "                    reduced[row_count+i][e_count] += row[e_count]*factor\n",
    "                    e_count +=1\n",
    "            row_count += 1\n",
    "            row = reduced[row_count]\n",
    "        return nbp_m(reduced)\n",
    "\n",
    "\n",
    "    def rre(self):\n",
    "        #row-switches if necessary\n",
    "        reduced = nbp_m.switching_rows(copy.deepcopy(self.matrix))     \n",
    "        row_count = 0\n",
    "        row = reduced[row_count]\n",
    "        while(row_count < len(reduced)-1):\n",
    "            if(nbp_m.pivot_row(row, row_count) == \"Null\"):\n",
    "                row_count += 1\n",
    "                continue\n",
    "            pivot_value = nbp_m.pivot_row(row, row_count)[0]\n",
    "            pivot_pos = nbp_m.pivot_row(row, row_count)[1]\n",
    "            factor = (1/pivot_value)\n",
    "            e_count = 0\n",
    "            for e in reduced[row_count]:\n",
    "                reduced[row_count][e_count] *= factor\n",
    "                e_count += 1\n",
    "            for i in range(1,len(reduced)):\n",
    "                if(row_count+i >= len(reduced)):\n",
    "                    continue\n",
    "                value_under = reduced[row_count+i][pivot_pos]\n",
    "                factor2 = (-value_under)\n",
    "                e_count = 0\n",
    "                for e in reduced[row_count+i]:\n",
    "                    reduced[row_count+i][e_count] += row[e_count]*factor2\n",
    "                    e_count +=1\n",
    "            row_count += 1\n",
    "            row = reduced[row_count]\n",
    "        return nbp_m(reduced)\n",
    "\n",
    "    \n",
    "    \n",
    "        #Based on rank = number of pivot columns in a matrix's row reduced echelon form \n",
    "    def rank(self):\n",
    "        return len(nbp_m.find_pivot(self.rre().matrix).keys())\n",
    "    \n",
    "    \n",
    "    def determinant(self):\n",
    "            \n",
    "        if not(self.is_square()):\n",
    "            raise ValueError(\"The matrix must be square to compute the determinant.\")\n",
    "        if (self.rows != len(nbp_m.find_pivot(self.row_echelon_form().matrix).keys())):\n",
    "            return 0\n",
    "        \n",
    "        determinant_lst = []\n",
    "        for i in nbp_m.find_pivot(self.row_echelon_form().matrix).values():\n",
    "            determinant_lst.append(i[0])\n",
    "        determinant = 1\n",
    "        for j in determinant_lst:\n",
    "            determinant *= j\n",
    "        return determinant\n",
    "     \n",
    "        \n",
    "    def inverse(self):\n",
    "        if self.determinant() == 0:\n",
    "            raise ValueError('The matrix is singular (determinant = 0).')        \n",
    "        \n",
    "        #only used for indexing -> does not need to be a copy\n",
    "        matrix = self.matrix\n",
    "        determinant = self.determinant()\n",
    "        \n",
    "\n",
    "        if len(matrix) == 2:\n",
    "            return nbp_m([matrix[1][1], -1*matrix[0][1], -1*matrix[1][0], matrix[0][0]],2).scal(1/determinant)\n",
    "\n",
    "        inverse = nbp_m([0 for i in range(len(matrix)*len(matrix))],len(matrix)).matrix\n",
    "        \n",
    "        for i in range(len(matrix)):\n",
    "            for j in range(len(matrix[0])):\n",
    "                minor = nbp_m.minor(matrix, i+1, j+1)\n",
    "                inverse[i][j] = ((-1)**(i+1+j+1)) * minor.determinant()\n",
    "\n",
    "        return nbp_m(inverse).transpose().scal(1/determinant)\n",
    "\n",
    "\n",
    "\n",
    "            \n",
    "    def lu(self):\n",
    "        if(self.determinant() == 0):\n",
    "            raise ValueError(\"This LU-decomposition can only be done on invertable matrices, i.e. where the determinant is non-zero\")\n",
    "        \n",
    "        if(self.matrix != nbp_m.switching_rows(copy.deepcopy(self.matrix))):\n",
    "            raise ValueError(\"This LU-decomposition can only be performed on matrices where row operations is not required before decomposing.\")\n",
    "            \n",
    "        a = copy.deepcopy(self.matrix)\n",
    "        dim = len(a)\n",
    "        l = nbp_m([0 for i in range(dim*dim)], dim).matrix\n",
    "        u = nbp_m([0 for i in range(dim*dim)], dim).matrix\n",
    "        \n",
    "    \n",
    "        for n in range(dim):\n",
    "            l[n][0] = a[n][0]\n",
    "            u[0][n] = a[0][n]/a[0][0]\n",
    "            u[n][n] = 1\n",
    "        \n",
    "        for d in range(1, dim):\n",
    "            for i in range(1, dim):\n",
    "                if i >= d:\n",
    "                    l[i][d] = a[i][d]\n",
    "                    for k in range(d):\n",
    "                        l[i][d] -= l[i][k]*u[k][d]\n",
    "                else:\n",
    "                    l[i][d] = 0\n",
    "                \n",
    "                if d <= i:\n",
    "                    u[d][i] = a[d][i]\n",
    "                    for k in range(d):\n",
    "                        u[d][i] -= l[d][k]*u[k][i]\n",
    "                    u[d][i] = u[d][i]/l[d][d]\n",
    "                else:\n",
    "                    u[d][i] = 0\n",
    "    \n",
    "        return {'l':nbp_m(l), 'u':nbp_m(u)}\n",
    "    \n",
    "\n",
    "\n",
    "    def solve_linear(self, vec):\n",
    "        if not (isinstance(vec, nbp_v)):\n",
    "            raise ValueError(\"The input has to be a vector (of the class nbp_v).\")\n",
    "            \n",
    "        # Solving the linear equation: Ax = b \n",
    "        # Using LU decomposition: LUx = b\n",
    "        # The first step: Ly = b\n",
    "        # The second step: Ux = y\n",
    "        \n",
    "        L = self.lu()['l'].matrix\n",
    "        U = self.lu()['u'].matrix\n",
    "        b = vec.vector\n",
    "    \n",
    "        # The first step: using forward substitution to solve Ly = b for y\n",
    "        y = [0 for i in range(len(b))]\n",
    "        y[0] = b[0]/L[0][0]\n",
    "        for n in range(1, len(b)):\n",
    "            h = b[n]\n",
    "            for j in range(n):\n",
    "                h -= L[n][j]*y[j]\n",
    "            y[n] = h/L[n][n]\n",
    "\n",
    "\n",
    "        # The second step: using backward substitution to solve Ux = y for x\n",
    "        x = [0 for i in range(len(b))]\n",
    "        x[-1] = y[-1]/U[-1][-1]\n",
    "        for n in range(len(b)-2, -1, -1):\n",
    "            h = y[n]\n",
    "            for j in range(n+1, len(b)):\n",
    "                h -= U[n][j]*x[j]\n",
    "            x[n] = h/U[n][n]\n",
    "\n",
    "        \n",
    "        return nbp_v(x,\"v\")\n",
    "    \n",
    "    \n",
    "    def gram_schmidt(self):\n",
    "    \n",
    "        # The matrix must be of full rank, the columns must be lineary independent.\n",
    "        if (self.rank() < self.columns):\n",
    "            raise ValueError(\"The matrix must be of full rank to compute qr using this gram_scmidt\")\n",
    "    \n",
    "        \n",
    "        #e and u are stored as lists of vectors,\n",
    "        #colA is stored as a matrix,\n",
    "        #r is a list of lists.\n",
    "        u = []\n",
    "        e = []\n",
    "        colA = self.transpose()\n",
    "        \n",
    "        u.append(nbp_v(colA.matrix[0]))\n",
    "        \n",
    "        e.append(u[0].div_vec(u[0].norm))\n",
    "    \n",
    "        r = []\n",
    "        for i in range(len(colA.matrix)):\n",
    "            r.append([])\n",
    "        r[0].append(nbp_v(colA.matrix[0]).dot_product(e[0]))\n",
    "        r[0] = r[0] + [0]*(len(colA.matrix)-len(r[0]))\n",
    "        \n",
    "    \n",
    "        for i in range(1, len(colA.matrix)):\n",
    "\n",
    "            #c is a vector (nbp_v)\n",
    "            c = nbp_v(colA.matrix[i])\n",
    "            u_new = copy.deepcopy(c)\n",
    "        \n",
    "            for e_vector in e:\n",
    "                u_new = u_new.sum_vec([e_vector.scalar(e_vector.dot_product(c)).scalar(-1)])\n",
    "\n",
    "            u.append(u_new)\n",
    "            e_new = u_new.div_vec(u_new.norm)\n",
    "            e.append(e_new)\n",
    "\n",
    "            for e_vector in e:\n",
    "                r[i].append(c.dot_product(e_vector))\n",
    "                \n",
    "            r[i] = r[i] + [0]*(len(colA.matrix)-len(r[i]))\n",
    "    \n",
    "        q = []\n",
    "        for e_vector in e:\n",
    "            q.append(e_vector.vector)\n",
    "                \n",
    "        return {'q':nbp_m(q).transpose(), 'r':nbp_m(r).transpose()}\n",
    "    \n",
    "    \n",
    "    def householder(self):\n",
    "\n",
    "        # AThe matrix must be of full rank, the columns must be lineary independent.\n",
    "        if (self.rank() < self.columns):\n",
    "            raise ValueError(\"The matrix must be of full rank to compute qr using this householder\")\n",
    "\n",
    "    \n",
    "        # The algorithm is from Kincaid.\n",
    "    \n",
    "        #dim is stored as an int,\n",
    "        #q, r and A are stored as a matrix (nbp_m).\n",
    "        dim = self.rows\n",
    "        q = nbp_m.identity_matrix(dim)\n",
    "        r = copy.deepcopy(self)\n",
    "        A = self.transpose()\n",
    "\n",
    "        for k in range(dim-1):\n",
    "        \n",
    "            # a1 = first column of A\n",
    "            a1 = nbp_v(A.matrix[0])\n",
    "\n",
    "            # beta \n",
    "            beta = -1*(a1.vector[0]/abs(a1.vector[0]))*a1.norm\n",
    "\n",
    "            # e1 = the unit vector of size equal to a1\n",
    "            e1 = nbp_v([1] + [0 for i in range(len(A.matrix)-1)])\n",
    "\n",
    "            # y = a1 - beta*e1\n",
    "            beta_e1 = e1.scalar(-1*beta)\n",
    "            y = a1.sum_vec([beta_e1])\n",
    "        \n",
    "            # alpha\n",
    "            alpha = (2**0.5)/y.norm\n",
    "        \n",
    "            # v = alpha * y\n",
    "            v = y.scalar(alpha)\n",
    "        \n",
    "            # v*v^T matrix\n",
    "            vvT = v.outer_product(nbp_v(v.vector,\"v\"))\n",
    "            \n",
    "            # U = I - vvT\n",
    "            U = nbp_m.identity_matrix(a1.dimensions).sum_matrix([vvT.scal(-1)])\n",
    "\n",
    "\n",
    "            # In the first iteration U does not have to be adapted to the original matrix size,\n",
    "            # but the next ones have to.\n",
    "            # The missing upper right part is the according part of identity matrix\n",
    "            if k > 0:\n",
    "                for t in range(k):\n",
    "                    U.matrix.insert(0, [0 for i in range(dim)])\n",
    "                for row in range(dim):\n",
    "                    if len(U.matrix[row]) < dim:\n",
    "                        U.matrix[row] = [0]*(dim-len(U.matrix[row])) + U.matrix[row]\n",
    "                for t in range(k):\n",
    "                    U.matrix[t][t] = 1\n",
    "\n",
    "            # Updating U with the new matrix\n",
    "            U = nbp_m(U.matrix)\n",
    "    \n",
    "            # By repetetive multiplication (U*r) we should end up with upper triangular matrix r\n",
    "            r = U.MMULT(r)\n",
    "\n",
    "            # We obtain matrix Q by multiplying obtained U_k matrices and then transposing the final product\n",
    "            q = U.MMULT(q)\n",
    "            \n",
    "            # Taking minor of A obtained after this step\n",
    "            A = nbp_m.minor(r.matrix, 1, 1)\n",
    "   \n",
    "    \n",
    "        return {'q':q.transpose(), 'r':r}\n",
    "    \n",
    "    \n",
    "    \n",
    "    def qr(self, method = \"h\"):\n",
    "        if(method != \"h\" and method != \"g\"):\n",
    "            raise ValueError(\"QR decomposition can be acchieved with the Gram Schmidt- or Householder methods, please select method = g or method = h.\")\n",
    "    \n",
    "        if method == 'g':\n",
    "            return {'q': self.gram_schmidt()[\"q\"], 'r': self.gram_schmidt()[\"r\"]}\n",
    "        \n",
    "        return {'q': self.householder()[\"q\"], 'r': self.householder()[\"r\"]}\n",
    "    \n",
    "    \n",
    "    \n",
    "    def qr_alg(self, iterations=100, method = \"h\"):\n",
    "        \n",
    "        ## We are also validating method here, so that no variables will be stored before qr is called. \n",
    "        if(method != \"h\" and method != \"g\"):\n",
    "            raise ValueError(\"QR decomposition can be acchieved with the Gram Schmidt- or Householder methods, please select method = g or method = h.\")\n",
    "            \n",
    "        if (self.rank() < self.columns):\n",
    "            raise ValueError(\"The matrix must be of full rank to compute qr using this algorithm.\")\n",
    "        \n",
    "        values = copy.deepcopy(self)\n",
    "        vectors = copy.deepcopy(self)\n",
    "  \n",
    "        for i in range(iterations):\n",
    "\n",
    "            # Storing values.qr(method) in v to not compute twice in order to improve performance (significantly when iterations are 100+) \n",
    "            v = values.qr(method)\n",
    "            q_val = v['q']\n",
    "            r_val = v['r']\n",
    "            q_vec = vectors.qr(method)['q']\n",
    "            \n",
    "            values = r_val.MMULT(q_val)\n",
    "            vectors = self.MMULT(q_vec)\n",
    "        \n",
    "        return {'m':values, 'eig':vectors.qr()['q']}\n",
    "\n",
    "    \n",
    "    \n",
    "    def eigen(self, method = \"h\"):\n",
    "        if not self.is_square():\n",
    "            raise ValueError(\"Can only compute eigenvalues of a square matrix\")\n",
    "        \n",
    "        if not self.is_symmetric():\n",
    "            raise ValueError(\"this function can only compute eigenvalues for symmetric matrices\")\n",
    "    \n",
    "        eigen_values = [round(self.qr_alg()['m'].matrix[i][i],3) for i in range(self.rows)]\n",
    "        eigen_vectors = self.qr_alg()['eig'].transpose().matrix\n",
    "        for k in range(len(eigen_vectors)):\n",
    "            eigen_vectors[k] = [round(x,3) for x in eigen_vectors[k]]\n",
    "    \n",
    "        return {'values':nbp_v(eigen_values), 'vectors':nbp_m(eigen_vectors)}\n",
    "    \n",
    "    \n",
    "    def diagonalize(self, method = \"h\"):\n",
    "        if not (self.is_symmetric()):\n",
    "            raise ValueError(\"Diagonalize can only be done for symmetric matrices, since that is a requirement for computing eigenvalues in this library\")\n",
    "        \n",
    "        # The output is PDP^-1\n",
    "        # D = matrix with eigenvalues\n",
    "        # P = matrix containing of corresponding eigenvalues\n",
    "        # P-1 = the transposed of matrix P\n",
    "    \n",
    "        D = nbp_m.identity_matrix(self.rows)\n",
    "    \n",
    "        for i in range(self.rows):\n",
    "            D.matrix[i][i] = self.eigen(method)[\"values\"].vector[i]\n",
    "        \n",
    "\n",
    "        \n",
    "        P = self.eigen(method)[\"vectors\"].transpose()\n",
    "\n",
    "    \n",
    "        return {'D':D, 'P':P, 'P-1':P.inverse()}\n",
    "\n",
    "\n",
    "\n"
   ]
  },
  {
   "cell_type": "code",
   "execution_count": 1,
   "id": "d4a4ba67",
   "metadata": {},
   "outputs": [],
   "source": [
    "class nbp_v:\n",
    "\n",
    "    # checks if inputted list/matrix (list of lists) is of:\n",
    "    # correct type\n",
    "    # correct structure\n",
    "    \n",
    "    # variables stored:\n",
    "    # vector is a list of the vector elements\n",
    "    # direction is for the user to specify if the vector is horizontal or vertical (h or v)\n",
    "    def __init__(self, vector, direction = \"h\"):\n",
    "        \n",
    "        if type(vector) != list:\n",
    "            raise ValueError('The vector-input has to be list')\n",
    "           \n",
    "        for e in vector:\n",
    "            if not (type(e) == int or type(e) == float):\n",
    "                raise ValueError(\"All the vector elements must be of type int or float\")  \n",
    "        \n",
    "        self.dimensions = len(vector)\n",
    "        self.vector = vector\n",
    "        self.direction = direction\n",
    "        self.norm = sum([i**2 for i in self.vector]) ** 0.5\n",
    "        \n",
    "        \n",
    "    def __add__(self, other):\n",
    "        if not (isinstance(other, nbp_v)):\n",
    "            raise ValueError(\"other must be of instance vector (nbp_v).\")        \n",
    "        \n",
    "        if (len(self.vector)!= len(other.vector)):\n",
    "            raise ValueError('The vectors are not of the same dimension.')        \n",
    "        v1 = self.vector\n",
    "        v2 = other.vector\n",
    "        out = []\n",
    "        for i in range(len(v1)):\n",
    "            out.append(v1[i] + v2[i])\n",
    "        return nbp_v(out)\n",
    "    \n",
    "    def __sub__(self, other):\n",
    "        if not (isinstance(other, nbp_v)):\n",
    "            raise ValueError(\"other must be of instance vector (nbp_v).\")        \n",
    "   \n",
    "        if (len(self.vector)!= len(other.vector)):\n",
    "            raise ValueError('vectors are not of the same dimension.')        \n",
    "        v1 = self.vector\n",
    "        v2 = other.vector\n",
    "        out = []\n",
    "        for i in range(len(v1)):\n",
    "            out.append(v1[i] - v2[i])\n",
    "        return nbp_v(out)  \n",
    "\n",
    "\n",
    "######## printing functions ######\n",
    "    \n",
    "    # Printing the vector as a list.\n",
    "    def __str__(self):\n",
    "        return str(self.vector)    \n",
    "    \n",
    "\n",
    "    def nice(self):\n",
    "        \n",
    "        #The import statement is defined in the function due to reusability purposes\n",
    "        #Furthermore, nice is a function purley for the user to have a nice display, and is therefore optional.\n",
    "        #Having the import inside the function avoids importing a package that might not be used\n",
    "        \n",
    "        from IPython.display import display, Latex\n",
    "        \n",
    "\n",
    "        vector_line = [round(num, 3) for num in self.vector] # rounding so that the outcome is of normal size\n",
    "\n",
    "        # Coding the applicable string,\n",
    "        # using {} to control the formatting,\n",
    "        # and using latex to display the vector\n",
    "        text = ''\n",
    "        if(self.direction == \"h\"):\n",
    "            text += '&'.join(['{}' for i in range(len(self.vector))])\n",
    "\n",
    "        else:\n",
    "            for i in range(len(self.vector)):\n",
    "                text += '{}\\\\\\\\'\n",
    "                \n",
    "        gen = '$\\\\begin{{bmatrix}} '+text+' \\end{{bmatrix}}$'\n",
    "        gen_f = gen.format(*vector_line) #matrix_line\n",
    "\n",
    "\n",
    "        # printing\n",
    "        display(Latex(f'{gen_f}'))\n",
    "\n",
    " \n",
    "\n",
    "    ### checking if two vectors are orthogonal ###\n",
    "\n",
    "    def orthogonal(self, other):\n",
    "        return self.dot_product(other) == 0\n",
    "       \n",
    "\n",
    "\n",
    "#### manipulating vectors #######        \n",
    "\n",
    "        \n",
    "    def scalar(self, scalar):\n",
    "        if (type(scalar) != int and type(scalar) != float):\n",
    "            raise ValueError('The scalar parsed must be numerical.')        \n",
    "        return nbp_v([i*scalar for i in self.vector], self.direction)\n",
    "    \n",
    "    def div_vec(self, divisor):\n",
    "        if (type(divisor) != int and type(divisor) != float):\n",
    "            raise ValueError('The divisor parsed must be numerical.') \n",
    "        return nbp_v([i/divisor for i in self.vector], self.direction)\n",
    "    \n",
    "    def sum_vec(self, lst):\n",
    "        for vec in lst:\n",
    "            if not (isinstance(vec, nbp_v)):\n",
    "                raise ValueError(\"All of the other input have to be vectors (instance of nbp_v).\")\n",
    "        \n",
    "        dimensions = [i.dimensions for i in lst]\n",
    "        dimensions.append(self.dimensions)\n",
    "        lst.append(self)\n",
    "        if [dimensions[0]]*len(dimensions) != dimensions:\n",
    "            raise ValueError('Some of the vectors have different dimensions.')\n",
    "            \n",
    "        out = []\n",
    "        for i in range(dimensions[0]):\n",
    "            out.append(sum([k.vector[i] for k in lst]))\n",
    "                       \n",
    "        return nbp_v(out)\n",
    "    \n",
    "    def linear_independent(self, other):\n",
    "        if(self.direction!= other.direction or self.dimensions != other.dimensions):\n",
    "            return True\n",
    "        lst =[]\n",
    "        if(self.direction == \"h\"):\n",
    "            lst.append(self.vector)\n",
    "            lst.append(other.vector)\n",
    "        else:\n",
    "            for i in range(len(self.vector)):\n",
    "                lst2 = []\n",
    "                lst2.append(self.vector[i])\n",
    "                lst2.append(other.vector[i])\n",
    "                lst.append(lst2)\n",
    "        return nbp_m(lst).rank() >1\n",
    "    \n",
    "    def dot_product(self, other):\n",
    "        if not (isinstance(other, nbp_v)):\n",
    "            raise ValueError(\"other has to be of instance nbp_v.\")\n",
    "        if (self.dimensions != other.dimensions):\n",
    "            raise ValueError('Multiplication cannot be done due to different dimensions.')\n",
    "        return sum([self.vector[i]*other.vector[i] for i in range(len(self.vector))])\n",
    "    \n",
    "    def cross_product(self, other):\n",
    "        if not (isinstance(other, nbp_v)):\n",
    "            raise ValueError(\"other has to be of instance nbp_v.\")\n",
    "        if (self.dimensions != other.dimensions):\n",
    "            raise ValueError('Cross product cannot be done due to different dimensions.')\n",
    "        if (self.dimensions != 3):\n",
    "            raise ValueError(\"Cross product is only defined for 3 and 7 dimensions, this function can only compute for 3D.\")\n",
    "        a = self.vector\n",
    "        b = other.vector\n",
    "        return nbp_v([a[1]*b[2] - a[2]*b[1],\n",
    "                      a[2]*b[0] - a[0]*b[2],\n",
    "                      a[0]*b[1] - a[1]*b[0]],self.direction) \n",
    "    \n",
    "    def outer_product(self, other):\n",
    "        if not (isinstance(other, nbp_v)):\n",
    "            raise ValueError(\"other has to be of instance nbp_v\")\n",
    "        if (self.dimensions != other.dimensions):\n",
    "            raise ValueError('Outer product cannot be done due to different dimensions')\n",
    "            \n",
    "        # The outer product of the first vector (m x n), and the second vector (n x j) result in the matrix: m x j\n",
    "    \n",
    "        d1 = len(self.vector)\n",
    "        d2 = len(other.vector)\n",
    "    \n",
    "        # The function returns an instance of nbp_m.\n",
    "        res = nbp_m([0 for i in range(d1*d2)], d1)\n",
    "    \n",
    "        for i in range(d1):\n",
    "            for j in range(d2):\n",
    "                res.matrix[i][j] = self.vector[i]*other.vector[j]\n",
    "                \n",
    "        return res\n",
    "    \n",
    "    \n",
    "\n",
    "         "
   ]
  },
  {
   "cell_type": "code",
   "execution_count": 6,
   "id": "a28c4dc1",
   "metadata": {
    "scrolled": true
   },
   "outputs": [
    {
     "name": "stdout",
     "output_type": "stream",
     "text": [
      "f\n"
     ]
    },
    {
     "data": {
      "text/latex": [
       "$\\begin{bmatrix} 2&2&3&3 \\end{bmatrix}$"
      ],
      "text/plain": [
       "<IPython.core.display.Latex object>"
      ]
     },
     "metadata": {},
     "output_type": "display_data"
    },
    {
     "name": "stdout",
     "output_type": "stream",
     "text": [
      "e\n"
     ]
    },
    {
     "data": {
      "text/latex": [
       "$\\begin{bmatrix} 2&2&3 \\end{bmatrix}$"
      ],
      "text/plain": [
       "<IPython.core.display.Latex object>"
      ]
     },
     "metadata": {},
     "output_type": "display_data"
    },
    {
     "ename": "ValueError",
     "evalue": "Outer product cannot be done due to different dimensions",
     "output_type": "error",
     "traceback": [
      "\u001b[1;31m---------------------------------------------------------------------------\u001b[0m",
      "\u001b[1;31mValueError\u001b[0m                                Traceback (most recent call last)",
      "\u001b[1;32m<ipython-input-6-78708357dc7e>\u001b[0m in \u001b[0;36m<module>\u001b[1;34m\u001b[0m\n\u001b[0;32m     54\u001b[0m \u001b[0me\u001b[0m\u001b[1;33m.\u001b[0m\u001b[0mnice\u001b[0m\u001b[1;33m(\u001b[0m\u001b[1;33m)\u001b[0m\u001b[1;33m\u001b[0m\u001b[1;33m\u001b[0m\u001b[0m\n\u001b[0;32m     55\u001b[0m \u001b[1;33m\u001b[0m\u001b[0m\n\u001b[1;32m---> 56\u001b[1;33m \u001b[0mf\u001b[0m\u001b[1;33m.\u001b[0m\u001b[0mouter_product\u001b[0m\u001b[1;33m(\u001b[0m\u001b[0me\u001b[0m\u001b[1;33m)\u001b[0m\u001b[1;33m.\u001b[0m\u001b[0mnice\u001b[0m\u001b[1;33m(\u001b[0m\u001b[1;33m)\u001b[0m\u001b[1;33m\u001b[0m\u001b[1;33m\u001b[0m\u001b[0m\n\u001b[0m\u001b[0;32m     57\u001b[0m \u001b[0me\u001b[0m\u001b[1;33m.\u001b[0m\u001b[0mouter_product\u001b[0m\u001b[1;33m(\u001b[0m\u001b[0mf\u001b[0m\u001b[1;33m)\u001b[0m\u001b[1;33m.\u001b[0m\u001b[0mnice\u001b[0m\u001b[1;33m(\u001b[0m\u001b[1;33m)\u001b[0m\u001b[1;33m\u001b[0m\u001b[1;33m\u001b[0m\u001b[0m\n\u001b[0;32m     58\u001b[0m \u001b[1;33m\u001b[0m\u001b[0m\n",
      "\u001b[1;32m<ipython-input-1-8ae6b7cf187a>\u001b[0m in \u001b[0;36mouter_product\u001b[1;34m(self, other)\u001b[0m\n\u001b[0;32m    164\u001b[0m             \u001b[1;32mraise\u001b[0m \u001b[0mValueError\u001b[0m\u001b[1;33m(\u001b[0m\u001b[1;34m\"other has to be of instance nbp_v\"\u001b[0m\u001b[1;33m)\u001b[0m\u001b[1;33m\u001b[0m\u001b[1;33m\u001b[0m\u001b[0m\n\u001b[0;32m    165\u001b[0m         \u001b[1;32mif\u001b[0m \u001b[1;33m(\u001b[0m\u001b[0mself\u001b[0m\u001b[1;33m.\u001b[0m\u001b[0mdimensions\u001b[0m \u001b[1;33m!=\u001b[0m \u001b[0mother\u001b[0m\u001b[1;33m.\u001b[0m\u001b[0mdimensions\u001b[0m\u001b[1;33m)\u001b[0m\u001b[1;33m:\u001b[0m\u001b[1;33m\u001b[0m\u001b[1;33m\u001b[0m\u001b[0m\n\u001b[1;32m--> 166\u001b[1;33m             \u001b[1;32mraise\u001b[0m \u001b[0mValueError\u001b[0m\u001b[1;33m(\u001b[0m\u001b[1;34m'Outer product cannot be done due to different dimensions'\u001b[0m\u001b[1;33m)\u001b[0m\u001b[1;33m\u001b[0m\u001b[1;33m\u001b[0m\u001b[0m\n\u001b[0m\u001b[0;32m    167\u001b[0m \u001b[1;33m\u001b[0m\u001b[0m\n\u001b[0;32m    168\u001b[0m         \u001b[1;31m# The outer product of the first vector (m x n), and the second vector (n x j) result in the matrix: m x j\u001b[0m\u001b[1;33m\u001b[0m\u001b[1;33m\u001b[0m\u001b[1;33m\u001b[0m\u001b[0m\n",
      "\u001b[1;31mValueError\u001b[0m: Outer product cannot be done due to different dimensions"
     ]
    }
   ],
   "source": [
    "d = nbp_v([1,1,1],\"v\")\n",
    "e = nbp_v([2,2,3])\n",
    "f = nbp_v([2,2,3,3])\n",
    "g = nbp_v([5,4,2,3])\n",
    "h = nbp_v([8,-10])\n",
    "\n",
    "\n",
    "#nbp_m([[1,2],[1,2],[1,2]]).nice()\n",
    "\n",
    "#d+e\n",
    "#d-e\n",
    "#d.nice()\n",
    "#e.nice()\n",
    "#d.dot_product(e)\n",
    "#e.scalar(3).nice()\n",
    "#e.div_vec(3).nice()\n",
    "#print(d.linear_independent(e))\n",
    "#e.length\n",
    "#d.VMULT(e).nice()\n",
    "#e.VMULT(d).nice()\n",
    "#d.VMULT(f).nice()\n",
    "#f.VMULT(d).nice()\n",
    "#lst = []\n",
    "#lst.append(e)\n",
    "#lst.append(f)\n",
    "#lst.append([1,2,3])\n",
    "#d.sum_vec(lst).nice()\n",
    "\n",
    "#g.orthogonal(h)\n",
    "#g.dot_product(h)\n",
    "\n",
    "#a = nbp_m([1,2,3,\n",
    "#           4,5,6,\n",
    "#           7,8,8],\n",
    "#          3)\n",
    "#a.is_symmetric()\n",
    "#a.diagonalize()\n",
    "\n",
    "#a.inverse().nice()\n",
    "\n",
    "#we = nbp_m([-0.523,0.813,-0.258,-0.554,-0.553,-0.622,-0.648,-0.183,0.739],3)\n",
    "\n",
    "#f.cross_product(g).nice()\n",
    "\n",
    "#print(d+e)\n",
    "\n",
    "#print(d-e+e)\n",
    "\n",
    "#d.outer_product(e).nice()\n",
    "\n",
    "print(\"f\")\n",
    "f.nice()\n",
    "print(\"e\")\n",
    "e.nice()\n",
    "\n",
    "f.outer_product(e).nice()\n",
    "e.outer_product(f).nice()\n",
    "\n",
    "\n"
   ]
  },
  {
   "cell_type": "code",
   "execution_count": 242,
   "id": "c0f391d9",
   "metadata": {},
   "outputs": [
    {
     "data": {
      "text/latex": [
       "$\\begin{bmatrix} 1&1&3 \\\\ 0&0&6 \\\\ 2&0&0 \\end{bmatrix}$"
      ],
      "text/plain": [
       "<IPython.core.display.Latex object>"
      ]
     },
     "metadata": {},
     "output_type": "display_data"
    },
    {
     "ename": "ValueError",
     "evalue": "This LU-decomposition can only be performed on matrices where row operations is not required before decomposing.",
     "output_type": "error",
     "traceback": [
      "\u001b[1;31m---------------------------------------------------------------------------\u001b[0m",
      "\u001b[1;31mValueError\u001b[0m                                Traceback (most recent call last)",
      "\u001b[1;32m<ipython-input-242-8c218ce69a26>\u001b[0m in \u001b[0;36m<module>\u001b[1;34m\u001b[0m\n\u001b[0;32m     11\u001b[0m \u001b[0ma\u001b[0m\u001b[1;33m.\u001b[0m\u001b[0mnice\u001b[0m\u001b[1;33m(\u001b[0m\u001b[1;33m)\u001b[0m\u001b[1;33m\u001b[0m\u001b[1;33m\u001b[0m\u001b[0m\n\u001b[0;32m     12\u001b[0m \u001b[1;33m\u001b[0m\u001b[0m\n\u001b[1;32m---> 13\u001b[1;33m \u001b[0ma\u001b[0m\u001b[1;33m.\u001b[0m\u001b[0mlu\u001b[0m\u001b[1;33m(\u001b[0m\u001b[1;33m)\u001b[0m\u001b[1;33m[\u001b[0m\u001b[1;34m\"l\"\u001b[0m\u001b[1;33m]\u001b[0m\u001b[1;33m.\u001b[0m\u001b[0mnice\u001b[0m\u001b[1;33m(\u001b[0m\u001b[1;33m)\u001b[0m\u001b[1;33m\u001b[0m\u001b[1;33m\u001b[0m\u001b[0m\n\u001b[0m\u001b[0;32m     14\u001b[0m \u001b[0ma\u001b[0m\u001b[1;33m.\u001b[0m\u001b[0mlu\u001b[0m\u001b[1;33m(\u001b[0m\u001b[1;33m)\u001b[0m\u001b[1;33m[\u001b[0m\u001b[1;34m\"u\"\u001b[0m\u001b[1;33m]\u001b[0m\u001b[1;33m.\u001b[0m\u001b[0mnice\u001b[0m\u001b[1;33m(\u001b[0m\u001b[1;33m)\u001b[0m\u001b[1;33m\u001b[0m\u001b[1;33m\u001b[0m\u001b[0m\n",
      "\u001b[1;32m<ipython-input-241-d4734625439a>\u001b[0m in \u001b[0;36mlu\u001b[1;34m(self)\u001b[0m\n\u001b[0;32m    417\u001b[0m \u001b[1;33m\u001b[0m\u001b[0m\n\u001b[0;32m    418\u001b[0m         \u001b[1;32mif\u001b[0m\u001b[1;33m(\u001b[0m\u001b[0mself\u001b[0m\u001b[1;33m.\u001b[0m\u001b[0mmatrix\u001b[0m \u001b[1;33m!=\u001b[0m \u001b[0mnbp_m\u001b[0m\u001b[1;33m.\u001b[0m\u001b[0mswitching_rows\u001b[0m\u001b[1;33m(\u001b[0m\u001b[0mcopy\u001b[0m\u001b[1;33m.\u001b[0m\u001b[0mdeepcopy\u001b[0m\u001b[1;33m(\u001b[0m\u001b[0mself\u001b[0m\u001b[1;33m.\u001b[0m\u001b[0mmatrix\u001b[0m\u001b[1;33m)\u001b[0m\u001b[1;33m)\u001b[0m\u001b[1;33m)\u001b[0m\u001b[1;33m:\u001b[0m\u001b[1;33m\u001b[0m\u001b[1;33m\u001b[0m\u001b[0m\n\u001b[1;32m--> 419\u001b[1;33m             \u001b[1;32mraise\u001b[0m \u001b[0mValueError\u001b[0m\u001b[1;33m(\u001b[0m\u001b[1;34m\"This LU-decomposition can only be performed on matrices where row operations is not required before decomposing.\"\u001b[0m\u001b[1;33m)\u001b[0m\u001b[1;33m\u001b[0m\u001b[1;33m\u001b[0m\u001b[0m\n\u001b[0m\u001b[0;32m    420\u001b[0m \u001b[1;33m\u001b[0m\u001b[0m\n\u001b[0;32m    421\u001b[0m         \u001b[0ma\u001b[0m \u001b[1;33m=\u001b[0m \u001b[0mcopy\u001b[0m\u001b[1;33m.\u001b[0m\u001b[0mdeepcopy\u001b[0m\u001b[1;33m(\u001b[0m\u001b[0mself\u001b[0m\u001b[1;33m.\u001b[0m\u001b[0mmatrix\u001b[0m\u001b[1;33m)\u001b[0m\u001b[1;33m\u001b[0m\u001b[1;33m\u001b[0m\u001b[0m\n",
      "\u001b[1;31mValueError\u001b[0m: This LU-decomposition can only be performed on matrices where row operations is not required before decomposing."
     ]
    }
   ],
   "source": [
    "a = nbp_m([1,1,3,\n",
    "           0,0,6,\n",
    "           2,0,0],\n",
    "          3)\n",
    "\n",
    "g = nbp_m([1,1,1,2],2)\n",
    "#a.row_echelon_form().nice()\n",
    "#a.rre().nice()\n",
    "\n",
    "\n",
    "a.nice()\n",
    "\n",
    "#a.lu()[\"l\"].nice()\n",
    "a.lu()[\"u\"].nice()"
   ]
  },
  {
   "cell_type": "code",
   "execution_count": 275,
   "id": "84e1ae93",
   "metadata": {},
   "outputs": [
    {
     "name": "stdout",
     "output_type": "stream",
     "text": [
      "other\n"
     ]
    },
    {
     "data": {
      "text/latex": [
       "$\\begin{bmatrix} 2&6&9 \\\\ 6&8&5 \\\\ 9&5&8 \\end{bmatrix}$"
      ],
      "text/plain": [
       "<IPython.core.display.Latex object>"
      ]
     },
     "metadata": {},
     "output_type": "display_data"
    },
    {
     "name": "stdout",
     "output_type": "stream",
     "text": [
      "self\n"
     ]
    },
    {
     "data": {
      "text/latex": [
       "$\\begin{bmatrix} 1&2&3 \\\\ 4&5&6 \\\\ 7&8&8 \\end{bmatrix}$"
      ],
      "text/plain": [
       "<IPython.core.display.Latex object>"
      ]
     },
     "metadata": {},
     "output_type": "display_data"
    },
    {
     "data": {
      "text/latex": [
       "$\\begin{bmatrix} 41&37&43 \\\\ 92&94&109 \\\\ 134&146&167 \\end{bmatrix}$"
      ],
      "text/plain": [
       "<IPython.core.display.Latex object>"
      ]
     },
     "metadata": {},
     "output_type": "display_data"
    },
    {
     "data": {
      "text/latex": [
       "$\\begin{bmatrix} 1.0&3.0&4.5 \\\\ -0.0&1.0&2.2 \\\\ 0.0&0.0&15.9 \\end{bmatrix}$"
      ],
      "text/plain": [
       "<IPython.core.display.Latex object>"
      ]
     },
     "metadata": {},
     "output_type": "display_data"
    },
    {
     "data": {
      "text/latex": [
       "$\\begin{bmatrix} 1.0&2.0&3.0 \\\\ -0.0&1.0&2.0 \\\\ 0.0&0.0&-1.0 \\end{bmatrix}$"
      ],
      "text/plain": [
       "<IPython.core.display.Latex object>"
      ]
     },
     "metadata": {},
     "output_type": "display_data"
    }
   ],
   "source": [
    "a = nbp_m([2, 6, 9, 6, 8, 5, 9, 5, 8], 3)\n",
    "d = nbp_m([1,2,3,\n",
    "           4,5,6,\n",
    "           7,8,8],\n",
    "          3)\n",
    "#a.row_echelon_form().nice()\n",
    "#a.determinant()\n",
    "#a.rank()\n",
    "#a.householder()[\"q\"].nice()\n",
    "#a.householder()[\"r\"].nice()\n",
    "#b = nbp_m([1,2,\n",
    " #          3,4],\n",
    "  #        2)\n",
    "\n",
    "#b.row_echelon_form().nice()\n",
    "#b.rre().nice()\n",
    "#print(\"rank(a): \"+str(a.rank()))\n",
    "#print(\"rank(b): \"+str(b.rank()))\n",
    "#print(\"det(a): \"+str(a.determinant()))\n",
    "#print(\"det(b): \"+str(b.determinant()))\n",
    "\n",
    "#a.inverse().nice()\n",
    "#b.inverse().nice()\n",
    "\n",
    "#a.MMULT(d).nice()\n",
    "\n",
    "print(\"other\")\n",
    "a.nice()\n",
    "print(\"self\")\n",
    "d.nice()\n",
    "\n",
    "d.MMULT(a).nice()\n",
    "\n",
    "a.rre().nice()\n",
    "d.rre().nice()\n"
   ]
  },
  {
   "cell_type": "code",
   "execution_count": 156,
   "id": "eabd89e0",
   "metadata": {},
   "outputs": [
    {
     "data": {
      "text/latex": [
       "$\\begin{bmatrix} 1&2&3 \\\\ 0.0&-3.0&-6.0 \\\\ 0.0&0.0&0.0 \\end{bmatrix}$"
      ],
      "text/plain": [
       "<IPython.core.display.Latex object>"
      ]
     },
     "metadata": {},
     "output_type": "display_data"
    },
    {
     "data": {
      "text/latex": [
       "$\\begin{bmatrix} 1&2&3 \\\\ 0.0&-3.0&-6.0 \\\\ 0.0&0.0&-1.0 \\end{bmatrix}$"
      ],
      "text/plain": [
       "<IPython.core.display.Latex object>"
      ]
     },
     "metadata": {},
     "output_type": "display_data"
    },
    {
     "data": {
      "text/latex": [
       "$\\begin{bmatrix} 1.0&2.0&3.0 \\\\ -0.0&1.0&2.0 \\\\ 0.0&0.0&-1.0 \\end{bmatrix}$"
      ],
      "text/plain": [
       "<IPython.core.display.Latex object>"
      ]
     },
     "metadata": {},
     "output_type": "display_data"
    },
    {
     "name": "stdout",
     "output_type": "stream",
     "text": [
      "rank(a): 2\n",
      "rank(b): 3\n",
      "det(a): 0\n",
      "det(b): -1.0\n"
     ]
    }
   ],
   "source": []
  },
  {
   "cell_type": "code",
   "execution_count": 245,
   "id": "cab0034f",
   "metadata": {},
   "outputs": [
    {
     "name": "stdout",
     "output_type": "stream",
     "text": [
      "input: \n"
     ]
    },
    {
     "data": {
      "text/latex": [
       "$\\begin{bmatrix} 2&6&9 \\\\ 6&8&5 \\\\ 9&5&8 \\end{bmatrix}$"
      ],
      "text/plain": [
       "<IPython.core.display.Latex object>"
      ]
     },
     "metadata": {},
     "output_type": "display_data"
    },
    {
     "data": {
      "text/latex": [
       "$\\begin{bmatrix} -0.523&0.813&-0.258 \\\\ -0.554&-0.553&-0.622 \\\\ -0.648&-0.183&0.739 \\end{bmatrix}$"
      ],
      "text/plain": [
       "<IPython.core.display.Latex object>"
      ]
     },
     "metadata": {},
     "output_type": "display_data"
    },
    {
     "data": {
      "text/latex": [
       "$\\begin{bmatrix} 19.522&0&0 \\\\ 0&-4.868&0 \\\\ 0&0&3.346 \\end{bmatrix}$"
      ],
      "text/plain": [
       "<IPython.core.display.Latex object>"
      ]
     },
     "metadata": {},
     "output_type": "display_data"
    },
    {
     "data": {
      "text/latex": [
       "$\\begin{bmatrix} -0.522&-0.554&-0.648 \\\\ 0.812&-0.554&-0.182 \\\\ -0.257&-0.622&0.74 \\end{bmatrix}$"
      ],
      "text/plain": [
       "<IPython.core.display.Latex object>"
      ]
     },
     "metadata": {},
     "output_type": "display_data"
    },
    {
     "name": "stdout",
     "output_type": "stream",
     "text": [
      "qr using householder time: 4.567142724990845\n"
     ]
    },
    {
     "data": {
      "text/latex": [
       "$\\begin{bmatrix} -0.523&0.813&-0.258 \\\\ -0.554&-0.553&-0.622 \\\\ -0.648&-0.183&0.739 \\end{bmatrix}$"
      ],
      "text/plain": [
       "<IPython.core.display.Latex object>"
      ]
     },
     "metadata": {},
     "output_type": "display_data"
    },
    {
     "data": {
      "text/latex": [
       "$\\begin{bmatrix} 19.522&0&0 \\\\ 0&-4.868&0 \\\\ 0&0&3.346 \\end{bmatrix}$"
      ],
      "text/plain": [
       "<IPython.core.display.Latex object>"
      ]
     },
     "metadata": {},
     "output_type": "display_data"
    },
    {
     "data": {
      "text/latex": [
       "$\\begin{bmatrix} -0.522&-0.554&-0.648 \\\\ 0.812&-0.554&-0.182 \\\\ -0.257&-0.622&0.74 \\end{bmatrix}$"
      ],
      "text/plain": [
       "<IPython.core.display.Latex object>"
      ]
     },
     "metadata": {},
     "output_type": "display_data"
    },
    {
     "name": "stdout",
     "output_type": "stream",
     "text": [
      "qr using g-s time: 4.917922258377075\n"
     ]
    }
   ],
   "source": [
    "\n",
    "a = nbp_m([1,2,3,\n",
    "           4,5,6,\n",
    "           7,8,8],\n",
    "          3)\n",
    "#print(a.determinant() == 0)\n",
    "b = nbp_m([1,1,1,2,2,2,3,3,3],3)\n",
    "c = nbp_v([1,1,1],\"v\")\n",
    "d = nbp_m([1,1,1,2,2,2,3,3,3],3)\n",
    "f = nbp_m([1,2,3,\n",
    "           4,5,6,\n",
    "           7,8,8,9,10,11],\n",
    "          4)\n",
    "g = nbp_m([1,1,1,1,1,1,1,1,1],3)\n",
    "h = nbp_m([2, 6, 9, 6, 8, 5, 9, 5, 8], 3)\n",
    "\n",
    "#print(a)\n",
    "#a.nice()\n",
    "#a.rre().nice()\n",
    "#print(\"l\")\n",
    "#a.lu()[\"l\"].nice()\n",
    "#print(\"u\")\n",
    "#a.lu()[\"u\"].nice()\n",
    "\n",
    "print(\"input: \")\n",
    "h.nice()\n",
    "#print(h.is_symmetric() == True)\n",
    "#print(h.is_symmetric())\n",
    "\n",
    "\n",
    "#c.nice()\n",
    "#h.solve_linear(c)\n",
    "#b.rre().nice()\n",
    "#b.rank()\n",
    "#f.nice()\n",
    "\n",
    "\n",
    "#a.sum_matrix([b,d]).nice()\n",
    "\n",
    "#a.MMULT(f).nice()\n",
    "#f.MMULT(a).nice()\n",
    "#b.MMULT(b).nice()\n",
    "\n",
    "#q = a.householder()[\"q\"]\n",
    "#q.MMULT(a.householder()[\"r\"]).nice()\n",
    "#a.nice()\n",
    "\n",
    "#q2 = a.qr()['q']\n",
    "#q2.MMULT(a.qr()['r']).nice()\n",
    "\n",
    "#a.MMULT(nbp_m.identity_matrix(a.rows)).nice()\n",
    "#a.MMULT(q2).nice()\n",
    "#q2.nice()\n",
    "#a.qr()[\"r\"].MMULT(q2).nice()\n",
    "\n",
    "#a.qr_alg()['m'].nice()\n",
    "#a.qr_alg()['eig'].nice()\n",
    "#a.is_square()\n",
    "#a.is_symmetric()\n",
    "#g.transpose().nice()\n",
    "#g.is_symmetric()\n",
    "import time\n",
    "\n",
    "start = time.time()\n",
    "s = h.diagonalize()\n",
    "s[\"P\"].nice()\n",
    "s[\"D\"].nice()\n",
    "s[\"P-1\"].nice()\n",
    "end = time.time()\n",
    "print(\"qr using householder time: \"+str(end-start))\n",
    "\n",
    "\n",
    "start2 = time.time()\n",
    "s = h.diagonalize(method = \"g\")\n",
    "s[\"P\"].nice()\n",
    "s[\"D\"].nice()\n",
    "s[\"P-1\"].nice()\n",
    "end2 = time.time()\n",
    "print(\"qr using g-s time: \"+str(end2-start2))\n",
    "\n",
    "#h.nice()\n",
    "\n",
    "\n",
    "\n",
    "#s[\"P\"].nice()\n",
    "#s[\"D\"].nice()\n",
    "#s[\"P-1\"].nice()\n",
    "#s[\"P\"].inverse().nice()\n",
    "\n",
    "#ss = s[\"P\"].MMULT(s[\"D\"])\n",
    "\n",
    "#ss.MMULT(s[\"P-1\"]).nice()\n",
    "\n",
    "#nbp_m.matrix([1,2,3,4],1)\n",
    "\n",
    "#print(\"h\")\n",
    "#h.nice()\n",
    "#print(\"l*u\")\n",
    "#h.lu()[\"l\"].MMULT(h.lu()[\"u\"]).nice()\n",
    "\n",
    "\n",
    "\n",
    "\n",
    "\n"
   ]
  },
  {
   "cell_type": "code",
   "execution_count": 1104,
   "id": "a90f6422",
   "metadata": {},
   "outputs": [
    {
     "name": "stdout",
     "output_type": "stream",
     "text": [
      "1\n",
      "3\n"
     ]
    },
    {
     "data": {
      "text/plain": [
       "1.0"
      ]
     },
     "execution_count": 1104,
     "metadata": {},
     "output_type": "execute_result"
    }
   ],
   "source": [
    "b = nbp_m([1,1,1,2,2,2,3,3,3],3)\n",
    "print(b.rank())\n",
    "print(b.columns)\n",
    "b.dim_null()\n",
    "\n",
    "c = nbp_v([0,0,1],\"v\")\n",
    "c.norm"
   ]
  },
  {
   "cell_type": "code",
   "execution_count": 892,
   "id": "72bb5af0",
   "metadata": {},
   "outputs": [
    {
     "name": "stdout",
     "output_type": "stream",
     "text": [
      "3x3 matrix\n",
      "\n",
      "[110, 60, 66]\n",
      "[114, 137, 120]\n",
      "[158, 158, 150]\n",
      "\n"
     ]
    },
    {
     "data": {
      "text/latex": [
       "$\\begin{bmatrix} 27&6&9 \\\\ 12&27&18 \\\\ 21&24&27 \\end{bmatrix}$"
      ],
      "text/plain": [
       "<IPython.core.display.Latex object>"
      ]
     },
     "metadata": {},
     "output_type": "display_data"
    },
    {
     "data": {
      "text/latex": [
       "$\\begin{bmatrix} 0.153&0.028&-0.069 \\\\ 0.028&0.278&-0.194 \\\\ -0.144&-0.269&0.338 \\end{bmatrix}$"
      ],
      "text/plain": [
       "<IPython.core.display.Latex object>"
      ]
     },
     "metadata": {},
     "output_type": "display_data"
    },
    {
     "data": {
      "text/plain": [
       "[[0, 0, 0]]"
      ]
     },
     "execution_count": 892,
     "metadata": {},
     "output_type": "execute_result"
    }
   ],
   "source": [
    "\n",
    "q = nbp_m([9,2,3,\n",
    "           4,9,6,\n",
    "           7,8,9],\n",
    "          3)\n",
    "a = nbp_m([9,2,3,\n",
    "           4,9,6,\n",
    "           7,8,9],\n",
    "          3)\n",
    "a.rows\n",
    "a.columns\n",
    "a.matrix\n",
    "print(q.MMULT(a))\n",
    "q.scal(3).nice()\n",
    "q.determinant()\n",
    "q.inverse().nice()\n",
    "#a.is_square()\n",
    "#q.determinant()\n",
    "#nbp_m.row_echelon_form(q)\n",
    "#nbp_m.identity_matrix(4).nice()\n",
    "#nbp_m.zeros(3).nice()\n",
    "a+q\n",
    "a-q\n",
    "#q.MMULT([1,2,3])\n"
   ]
  },
  {
   "cell_type": "code",
   "execution_count": null,
   "id": "d3478d20",
   "metadata": {},
   "outputs": [],
   "source": []
  },
  {
   "cell_type": "code",
   "execution_count": 52,
   "id": "51a96ba1",
   "metadata": {},
   "outputs": [
    {
     "data": {
      "text/plain": [
       "[[-4, -1, -5, -1]]"
      ]
     },
     "execution_count": 52,
     "metadata": {},
     "output_type": "execute_result"
    }
   ],
   "source": [
    "b = nbp_m([5,3,8,5,8,8,6,2,2,1,2,3],3)\n",
    "a-b\n",
    "#c = nbp_m([[1,2,3],[2,3,4],[\"pedro\",\"odd\",\"jack\"]])"
   ]
  },
  {
   "cell_type": "code",
   "execution_count": 33,
   "id": "457e0bb4",
   "metadata": {},
   "outputs": [
    {
     "ename": "ValueError",
     "evalue": "Both lists and non-lists in given list!",
     "output_type": "error",
     "traceback": [
      "\u001b[1;31m---------------------------------------------------------------------------\u001b[0m",
      "\u001b[1;31mValueError\u001b[0m                                Traceback (most recent call last)",
      "\u001b[1;32m<ipython-input-33-6485d492d18c>\u001b[0m in \u001b[0;36m<module>\u001b[1;34m\u001b[0m\n\u001b[1;32m----> 1\u001b[1;33m \u001b[0md\u001b[0m \u001b[1;33m=\u001b[0m \u001b[0mnbp_m\u001b[0m\u001b[1;33m(\u001b[0m\u001b[1;33m[\u001b[0m\u001b[1;33m[\u001b[0m\u001b[1;36m1\u001b[0m\u001b[1;33m,\u001b[0m\u001b[1;36m2\u001b[0m\u001b[1;33m,\u001b[0m\u001b[1;36m3\u001b[0m\u001b[1;33m]\u001b[0m\u001b[1;33m,\u001b[0m\u001b[1;34m\"PEDRO\"\u001b[0m\u001b[1;33m]\u001b[0m\u001b[1;33m)\u001b[0m\u001b[1;33m\u001b[0m\u001b[1;33m\u001b[0m\u001b[0m\n\u001b[0m",
      "\u001b[1;32m<ipython-input-20-a5467131ad5b>\u001b[0m in \u001b[0;36m__init__\u001b[1;34m(self, matrix, rows)\u001b[0m\n\u001b[0;32m     51\u001b[0m \u001b[1;33m\u001b[0m\u001b[0m\n\u001b[0;32m     52\u001b[0m         \u001b[1;32melif\u001b[0m \u001b[0msum\u001b[0m\u001b[1;33m(\u001b[0m\u001b[1;33m[\u001b[0m\u001b[0mt\u001b[0m \u001b[1;33m==\u001b[0m \u001b[0mlist\u001b[0m \u001b[1;32mfor\u001b[0m \u001b[0mt\u001b[0m \u001b[1;32min\u001b[0m \u001b[0mtypes\u001b[0m\u001b[1;33m]\u001b[0m\u001b[1;33m)\u001b[0m \u001b[1;32min\u001b[0m  \u001b[0mrange\u001b[0m\u001b[1;33m(\u001b[0m\u001b[1;36m1\u001b[0m\u001b[1;33m,\u001b[0m\u001b[0mlen\u001b[0m\u001b[1;33m(\u001b[0m\u001b[0mmatrix\u001b[0m\u001b[1;33m)\u001b[0m\u001b[1;33m)\u001b[0m\u001b[1;33m:\u001b[0m\u001b[1;33m\u001b[0m\u001b[1;33m\u001b[0m\u001b[0m\n\u001b[1;32m---> 53\u001b[1;33m             \u001b[1;32mraise\u001b[0m \u001b[0mValueError\u001b[0m\u001b[1;33m(\u001b[0m\u001b[1;34m'Both lists and non-lists in given list!'\u001b[0m\u001b[1;33m)\u001b[0m\u001b[1;33m\u001b[0m\u001b[1;33m\u001b[0m\u001b[0m\n\u001b[0m\u001b[0;32m     54\u001b[0m \u001b[1;33m\u001b[0m\u001b[0m\n\u001b[0;32m     55\u001b[0m         \u001b[1;31m# if matrix given as a matrix - that is list of lists\u001b[0m\u001b[1;33m\u001b[0m\u001b[1;33m\u001b[0m\u001b[1;33m\u001b[0m\u001b[0m\n",
      "\u001b[1;31mValueError\u001b[0m: Both lists and non-lists in given list!"
     ]
    }
   ],
   "source": [
    "d = nbp_m([[1,2,3],\"PEDRO\"])\n",
    "\"\"\"\n",
    "    def operation(self, other, op):\n",
    "        \n",
    "        if (len(self.matrix)!= len(other.matrix)) or (len(self.matrix[0]) != len(other.matrix[0])):\n",
    "            raise ValueError('Matrices are not of the same size!')        \n",
    "        m1 = self.matrix\n",
    "        m2 = other.matrix\n",
    "        out = []\n",
    "        if(op == \"+\"):\n",
    "            for row in range(len(m1)):\n",
    "                out.append([m1[row][i] + m2[row][i] for i in range(len(m1[0]))])\n",
    "        else:\n",
    "            for row in range(len(m1)):\n",
    "                out.append([m1[row][i] - m2[row][i] for i in range(len(m1[0]))])            \n",
    "                \n",
    "        return out\n",
    "            \n",
    "    def __add__(self, other):\n",
    "        return operation(self, other, \"+\")\n",
    "    \n",
    "    def __sub__(self, other):\n",
    "        return operation(self, other, \"-\")\n",
    "\"\"\"\n"
   ]
  },
  {
   "cell_type": "code",
   "execution_count": 40,
   "id": "72d76bec",
   "metadata": {},
   "outputs": [
    {
     "data": {
      "text/latex": [
       "$\\begin{bmatrix} 1&2&3&4 \\\\ 5&6&7&8 \\\\ 9&10&11&12 \\end{bmatrix}$"
      ],
      "text/plain": [
       "<IPython.core.display.Latex object>"
      ]
     },
     "metadata": {},
     "output_type": "display_data"
    }
   ],
   "source": [
    "a.nice()"
   ]
  },
  {
   "cell_type": "code",
   "execution_count": 41,
   "id": "32b16331",
   "metadata": {},
   "outputs": [
    {
     "data": {
      "text/plain": [
       "{0: [1, (0, 0)], 1: [6, (1, 1)], 2: [11, (2, 2)]}"
      ]
     },
     "execution_count": 41,
     "metadata": {},
     "output_type": "execute_result"
    }
   ],
   "source": [
    "#a.nice()\n",
    "a.transpose()\n",
    "a.find_pivot()\n"
   ]
  },
  {
   "cell_type": "code",
   "execution_count": 8,
   "id": "2e264dfa",
   "metadata": {},
   "outputs": [
    {
     "data": {
      "text/latex": [
       "$\\begin{bmatrix} 5&3&8&5 \\\\ 8&8&6&2 \\\\ 2&1&2&3 \\end{bmatrix}$"
      ],
      "text/plain": [
       "<IPython.core.display.Latex object>"
      ]
     },
     "metadata": {},
     "output_type": "display_data"
    }
   ],
   "source": [
    "b.nice()"
   ]
  },
  {
   "cell_type": "code",
   "execution_count": 14,
   "id": "37bb8b24",
   "metadata": {},
   "outputs": [
    {
     "data": {
      "text/latex": [
       "$\\begin{bmatrix} 1&2&3 \\\\ 2&3&4 \\\\ 4&5&6 \\end{bmatrix}$"
      ],
      "text/plain": [
       "<IPython.core.display.Latex object>"
      ]
     },
     "metadata": {},
     "output_type": "display_data"
    }
   ],
   "source": [
    "c.nice()"
   ]
  },
  {
   "cell_type": "code",
   "execution_count": null,
   "id": "244e18a3",
   "metadata": {},
   "outputs": [],
   "source": [
    "    ### Matrix multiplication ###\n",
    "    def MMULT(self,other):           \n",
    "    res = [[0 for x in range(len(matrix1))] for y in range(len(matrix1[0]))] \n",
    "  \n",
    "    # explicit for loops\n",
    "    for i in range(len(matrix1)):\n",
    "        for j in range(len(matrix2[0])):\n",
    "            for k in range(len(matrix2)):\n",
    "  \n",
    "                # resulted matrix\n",
    "                res[i][j] += matrix1[i][k] * matrix2[k][j]\n",
    "                \n",
    "    return res"
   ]
  }
 ],
 "metadata": {
  "kernelspec": {
   "display_name": "Python 3",
   "language": "python",
   "name": "python3"
  },
  "language_info": {
   "codemirror_mode": {
    "name": "ipython",
    "version": 3
   },
   "file_extension": ".py",
   "mimetype": "text/x-python",
   "name": "python",
   "nbconvert_exporter": "python",
   "pygments_lexer": "ipython3",
   "version": "3.8.8"
  }
 },
 "nbformat": 4,
 "nbformat_minor": 5
}
